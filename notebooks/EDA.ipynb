{
 "cells": [
  {
   "cell_type": "code",
   "execution_count": 1,
   "metadata": {},
   "outputs": [],
   "source": [
    "import numpy as np\n",
    "import pandas as pd\n",
    "import matplotlib.pyplot as plt\n",
    "import seaborn as sns "
   ]
  },
  {
   "cell_type": "markdown",
   "metadata": {},
   "source": [
    "# load data"
   ]
  },
  {
   "cell_type": "code",
   "execution_count": 2,
   "metadata": {},
   "outputs": [
    {
     "data": {
      "text/html": [
       "<div>\n",
       "<style scoped>\n",
       "    .dataframe tbody tr th:only-of-type {\n",
       "        vertical-align: middle;\n",
       "    }\n",
       "\n",
       "    .dataframe tbody tr th {\n",
       "        vertical-align: top;\n",
       "    }\n",
       "\n",
       "    .dataframe thead th {\n",
       "        text-align: right;\n",
       "    }\n",
       "</style>\n",
       "<table border=\"1\" class=\"dataframe\">\n",
       "  <thead>\n",
       "    <tr style=\"text-align: right;\">\n",
       "      <th></th>\n",
       "      <th>book_id</th>\n",
       "      <th>title</th>\n",
       "      <th>image_url</th>\n",
       "      <th>url</th>\n",
       "      <th>num_pages</th>\n",
       "      <th>ratings_count</th>\n",
       "      <th>description</th>\n",
       "      <th>genre</th>\n",
       "      <th>name</th>\n",
       "      <th>book_id_mapping</th>\n",
       "    </tr>\n",
       "  </thead>\n",
       "  <tbody>\n",
       "    <tr>\n",
       "      <th>0</th>\n",
       "      <td>5899779</td>\n",
       "      <td>Pride and Prejudice and Zombies Pride and Prej...</td>\n",
       "      <td>https://images.gr-assets.com/books/1320449653m...</td>\n",
       "      <td>https://www.goodreads.com/book/show/5899779-pr...</td>\n",
       "      <td>320</td>\n",
       "      <td>105537</td>\n",
       "      <td>The New York Times Best Seller is now a major ...</td>\n",
       "      <td>['fantasy, paranormal', 'romance', 'fiction', ...</td>\n",
       "      <td>Jane Austen</td>\n",
       "      <td>808</td>\n",
       "    </tr>\n",
       "    <tr>\n",
       "      <th>1</th>\n",
       "      <td>872333</td>\n",
       "      <td>Blue Bloods Blue Bloods 1</td>\n",
       "      <td>https://images.gr-assets.com/books/1322281515m...</td>\n",
       "      <td>https://www.goodreads.com/book/show/872333.Blu...</td>\n",
       "      <td>302</td>\n",
       "      <td>117633</td>\n",
       "      <td>When the Mayflower set sail in 1620, it carrie...</td>\n",
       "      <td>['young-adult', 'fantasy, paranormal', 'romanc...</td>\n",
       "      <td>Melissa de la Cruz</td>\n",
       "      <td>217</td>\n",
       "    </tr>\n",
       "    <tr>\n",
       "      <th>2</th>\n",
       "      <td>15507958</td>\n",
       "      <td>Me Before You Me Before You 1</td>\n",
       "      <td>https://images.gr-assets.com/books/1357108762m...</td>\n",
       "      <td>https://www.goodreads.com/book/show/15507958-m...</td>\n",
       "      <td>369</td>\n",
       "      <td>609327</td>\n",
       "      <td>Louisa Clark is an ordinary young woman living...</td>\n",
       "      <td>['romance', 'fiction']</td>\n",
       "      <td>Jojo Moyes</td>\n",
       "      <td>385</td>\n",
       "    </tr>\n",
       "  </tbody>\n",
       "</table>\n",
       "</div>"
      ],
      "text/plain": [
       "    book_id                                              title  \\\n",
       "0   5899779  Pride and Prejudice and Zombies Pride and Prej...   \n",
       "1    872333                          Blue Bloods Blue Bloods 1   \n",
       "2  15507958                      Me Before You Me Before You 1   \n",
       "\n",
       "                                           image_url  \\\n",
       "0  https://images.gr-assets.com/books/1320449653m...   \n",
       "1  https://images.gr-assets.com/books/1322281515m...   \n",
       "2  https://images.gr-assets.com/books/1357108762m...   \n",
       "\n",
       "                                                 url  num_pages  \\\n",
       "0  https://www.goodreads.com/book/show/5899779-pr...        320   \n",
       "1  https://www.goodreads.com/book/show/872333.Blu...        302   \n",
       "2  https://www.goodreads.com/book/show/15507958-m...        369   \n",
       "\n",
       "   ratings_count                                        description  \\\n",
       "0         105537  The New York Times Best Seller is now a major ...   \n",
       "1         117633  When the Mayflower set sail in 1620, it carrie...   \n",
       "2         609327  Louisa Clark is an ordinary young woman living...   \n",
       "\n",
       "                                               genre                name  \\\n",
       "0  ['fantasy, paranormal', 'romance', 'fiction', ...         Jane Austen   \n",
       "1  ['young-adult', 'fantasy, paranormal', 'romanc...  Melissa de la Cruz   \n",
       "2                             ['romance', 'fiction']          Jojo Moyes   \n",
       "\n",
       "   book_id_mapping  \n",
       "0              808  \n",
       "1              217  \n",
       "2              385  "
      ]
     },
     "execution_count": 2,
     "metadata": {},
     "output_type": "execute_result"
    }
   ],
   "source": [
    "book_meta = pd.read_csv('../data/collaborative_book_metadata.csv',index_col=0)\n",
    "book_meta.head(3)"
   ]
  },
  {
   "cell_type": "code",
   "execution_count": 218,
   "metadata": {},
   "outputs": [
    {
     "data": {
      "text/plain": [
       "book_id  title  image_url  url    num_pages  ratings_count  description  genre  name   book_id_mapping\n",
       "False    False  False      False  False      False          False        False  False  False              96\n",
       "dtype: int64"
      ]
     },
     "execution_count": 218,
     "metadata": {},
     "output_type": "execute_result"
    }
   ],
   "source": [
    "book_meta.isna().value_counts()"
   ]
  },
  {
   "cell_type": "code",
   "execution_count": 102,
   "metadata": {},
   "outputs": [
    {
     "data": {
      "text/html": [
       "<div>\n",
       "<style scoped>\n",
       "    .dataframe tbody tr th:only-of-type {\n",
       "        vertical-align: middle;\n",
       "    }\n",
       "\n",
       "    .dataframe tbody tr th {\n",
       "        vertical-align: top;\n",
       "    }\n",
       "\n",
       "    .dataframe thead th {\n",
       "        text-align: right;\n",
       "    }\n",
       "</style>\n",
       "<table border=\"1\" class=\"dataframe\">\n",
       "  <thead>\n",
       "    <tr style=\"text-align: right;\">\n",
       "      <th></th>\n",
       "      <th>book_id</th>\n",
       "      <th>title</th>\n",
       "      <th>image_url</th>\n",
       "      <th>url</th>\n",
       "      <th>num_pages</th>\n",
       "      <th>ratings_count</th>\n",
       "      <th>description</th>\n",
       "      <th>genre</th>\n",
       "      <th>name</th>\n",
       "      <th>book_id_mapping</th>\n",
       "    </tr>\n",
       "  </thead>\n",
       "  <tbody>\n",
       "    <tr>\n",
       "      <th>20</th>\n",
       "      <td>19057</td>\n",
       "      <td>I Am the Messenger</td>\n",
       "      <td>https://images.gr-assets.com/books/1398483261m...</td>\n",
       "      <td>https://www.goodreads.com/book/show/19057.I_Am...</td>\n",
       "      <td>360</td>\n",
       "      <td>94968</td>\n",
       "      <td>protect the diamonds\\nsurvive the clubs\\ndig d...</td>\n",
       "      <td>['young-adult', 'fiction', 'mystery, thriller,...</td>\n",
       "      <td>Markus Zusak</td>\n",
       "      <td>455</td>\n",
       "    </tr>\n",
       "  </tbody>\n",
       "</table>\n",
       "</div>"
      ],
      "text/plain": [
       "    book_id               title  \\\n",
       "20    19057  I Am the Messenger   \n",
       "\n",
       "                                            image_url  \\\n",
       "20  https://images.gr-assets.com/books/1398483261m...   \n",
       "\n",
       "                                                  url  num_pages  \\\n",
       "20  https://www.goodreads.com/book/show/19057.I_Am...        360   \n",
       "\n",
       "    ratings_count                                        description  \\\n",
       "20          94968  protect the diamonds\\nsurvive the clubs\\ndig d...   \n",
       "\n",
       "                                                genre          name  \\\n",
       "20  ['young-adult', 'fiction', 'mystery, thriller,...  Markus Zusak   \n",
       "\n",
       "    book_id_mapping  \n",
       "20              455  "
      ]
     },
     "execution_count": 102,
     "metadata": {},
     "output_type": "execute_result"
    }
   ],
   "source": [
    "book_meta[book_meta['book_id'] == 19057]"
   ]
  },
  {
   "cell_type": "code",
   "execution_count": 3,
   "metadata": {},
   "outputs": [
    {
     "data": {
      "text/html": [
       "<div>\n",
       "<style scoped>\n",
       "    .dataframe tbody tr th:only-of-type {\n",
       "        vertical-align: middle;\n",
       "    }\n",
       "\n",
       "    .dataframe tbody tr th {\n",
       "        vertical-align: top;\n",
       "    }\n",
       "\n",
       "    .dataframe thead th {\n",
       "        text-align: right;\n",
       "    }\n",
       "</style>\n",
       "<table border=\"1\" class=\"dataframe\">\n",
       "  <thead>\n",
       "    <tr style=\"text-align: right;\">\n",
       "      <th></th>\n",
       "      <th>title</th>\n",
       "      <th>book_id</th>\n",
       "      <th>user_id_mapping</th>\n",
       "      <th>book_id_mapping</th>\n",
       "      <th>Predicted Rating</th>\n",
       "      <th>Actual Rating</th>\n",
       "    </tr>\n",
       "  </thead>\n",
       "  <tbody>\n",
       "    <tr>\n",
       "      <th>0</th>\n",
       "      <td>I Am the Messenger</td>\n",
       "      <td>19057</td>\n",
       "      <td>1537</td>\n",
       "      <td>299</td>\n",
       "      <td>4.5</td>\n",
       "      <td>5</td>\n",
       "    </tr>\n",
       "    <tr>\n",
       "      <th>1</th>\n",
       "      <td>I Am the Messenger</td>\n",
       "      <td>19057</td>\n",
       "      <td>23039</td>\n",
       "      <td>299</td>\n",
       "      <td>4.9</td>\n",
       "      <td>3</td>\n",
       "    </tr>\n",
       "    <tr>\n",
       "      <th>2</th>\n",
       "      <td>I Am the Messenger</td>\n",
       "      <td>19057</td>\n",
       "      <td>39096</td>\n",
       "      <td>299</td>\n",
       "      <td>3.9</td>\n",
       "      <td>3</td>\n",
       "    </tr>\n",
       "  </tbody>\n",
       "</table>\n",
       "</div>"
      ],
      "text/plain": [
       "                title  book_id  user_id_mapping  book_id_mapping  \\\n",
       "0  I Am the Messenger    19057             1537              299   \n",
       "1  I Am the Messenger    19057            23039              299   \n",
       "2  I Am the Messenger    19057            39096              299   \n",
       "\n",
       "   Predicted Rating  Actual Rating  \n",
       "0               4.5              5  \n",
       "1               4.9              3  \n",
       "2               3.9              3  "
      ]
     },
     "execution_count": 3,
     "metadata": {},
     "output_type": "execute_result"
    }
   ],
   "source": [
    "book_df = pd.read_csv('../data/collaborative_books_df.csv',index_col=0)\n",
    "book_df.head(3) # map uesr with books"
   ]
  },
  {
   "cell_type": "code",
   "execution_count": 232,
   "metadata": {},
   "outputs": [
    {
     "data": {
      "text/plain": [
       "898"
      ]
     },
     "execution_count": 232,
     "metadata": {},
     "output_type": "execute_result"
    }
   ],
   "source": [
    "len(book_df['book_id_mapping'].unique())"
   ]
  },
  {
   "cell_type": "code",
   "execution_count": 230,
   "metadata": {},
   "outputs": [
    {
     "data": {
      "text/plain": [
       "898"
      ]
     },
     "execution_count": 230,
     "metadata": {},
     "output_type": "execute_result"
    }
   ],
   "source": [
    "len(book_df['book_id'].unique()) # in the trasaction data, there are 898 books"
   ]
  },
  {
   "cell_type": "code",
   "execution_count": 236,
   "metadata": {},
   "outputs": [
    {
     "data": {
      "text/plain": [
       "(196296, 6)"
      ]
     },
     "execution_count": 236,
     "metadata": {},
     "output_type": "execute_result"
    }
   ],
   "source": [
    "book_df.shape"
   ]
  },
  {
   "cell_type": "code",
   "execution_count": 231,
   "metadata": {},
   "outputs": [
    {
     "data": {
      "text/plain": [
       "96"
      ]
     },
     "execution_count": 231,
     "metadata": {},
     "output_type": "execute_result"
    }
   ],
   "source": [
    "len(book_meta['book_id'].unique()) # yet in the book meta, there are only 96 books"
   ]
  },
  {
   "cell_type": "markdown",
   "metadata": {},
   "source": [
    "# customer segmentation"
   ]
  },
  {
   "cell_type": "code",
   "execution_count": 42,
   "metadata": {},
   "outputs": [
    {
     "data": {
      "text/plain": [
       "(array([4.6335e+04, 1.3646e+04, 4.8160e+03, 1.5260e+03, 4.4000e+02,\n",
       "        1.1000e+02, 2.6000e+01, 5.0000e+00, 3.0000e+00, 2.0000e+00]),\n",
       " array([ 1. ,  3.1,  5.2,  7.3,  9.4, 11.5, 13.6, 15.7, 17.8, 19.9, 22. ]),\n",
       " <BarContainer object of 10 artists>)"
      ]
     },
     "execution_count": 42,
     "metadata": {},
     "output_type": "execute_result"
    },
    {
     "data": {
      "image/png": "[encoded data removed]",
      "text/plain": [
       "<Figure size 432x288 with 1 Axes>"
      ]
     },
     "metadata": {
      "needs_background": "light"
     },
     "output_type": "display_data"
    }
   ],
   "source": [
    "plt.hist(book_df['user_id_mapping'].value_counts())"
   ]
  },
  {
   "cell_type": "code",
   "execution_count": 4,
   "metadata": {},
   "outputs": [],
   "source": [
    "feq = pd.DataFrame(book_df['user_id_mapping'].value_counts())"
   ]
  },
  {
   "cell_type": "code",
   "execution_count": 43,
   "metadata": {},
   "outputs": [
    {
     "data": {
      "text/plain": [
       "(array([2.7955e+04, 1.3646e+04, 4.8160e+03, 1.5260e+03, 4.4000e+02,\n",
       "        1.1000e+02, 2.6000e+01, 5.0000e+00, 3.0000e+00, 2.0000e+00]),\n",
       " array([ 2.,  4.,  6.,  8., 10., 12., 14., 16., 18., 20., 22.]),\n",
       " <BarContainer object of 10 artists>)"
      ]
     },
     "execution_count": 43,
     "metadata": {},
     "output_type": "execute_result"
    },
    {
     "data": {
      "image/png": "[encoded data removed]",
      "text/plain": [
       "<Figure size 432x288 with 1 Axes>"
      ]
     },
     "metadata": {
      "needs_background": "light"
     },
     "output_type": "display_data"
    }
   ],
   "source": [
    "plt.hist(feq[feq['user_id_mapping'] > 1]['user_id_mapping'])"
   ]
  },
  {
   "cell_type": "code",
   "execution_count": 46,
   "metadata": {},
   "outputs": [
    {
     "data": {
      "text/plain": [
       "count    48529.000000\n",
       "mean         3.666179\n",
       "std          1.831928\n",
       "min          2.000000\n",
       "25%          2.000000\n",
       "50%          3.000000\n",
       "75%          5.000000\n",
       "max         22.000000\n",
       "Name: user_id_mapping, dtype: float64"
      ]
     },
     "execution_count": 46,
     "metadata": {},
     "output_type": "execute_result"
    }
   ],
   "source": [
    "feq[feq['user_id_mapping'] > 1]['user_id_mapping'].describe()"
   ]
  },
  {
   "cell_type": "code",
   "execution_count": 45,
   "metadata": {},
   "outputs": [
    {
     "data": {
      "text/plain": [
       "{'whiskers': [<matplotlib.lines.Line2D at 0x1a8dafc3460>,\n",
       "  <matplotlib.lines.Line2D at 0x1a8dafc37c0>],\n",
       " 'caps': [<matplotlib.lines.Line2D at 0x1a8dafc3b20>,\n",
       "  <matplotlib.lines.Line2D at 0x1a8dafc3e80>],\n",
       " 'boxes': [<matplotlib.lines.Line2D at 0x1a8dafc3100>],\n",
       " 'medians': [<matplotlib.lines.Line2D at 0x1a8dafcf220>],\n",
       " 'fliers': [<matplotlib.lines.Line2D at 0x1a8dafcf580>],\n",
       " 'means': []}"
      ]
     },
     "execution_count": 45,
     "metadata": {},
     "output_type": "execute_result"
    },
    {
     "data": {
      "image/png": "[encoded data removed]",
      "text/plain": [
       "<Figure size 432x288 with 1 Axes>"
      ]
     },
     "metadata": {
      "needs_background": "light"
     },
     "output_type": "display_data"
    }
   ],
   "source": [
    "plt.boxplot(feq[feq['user_id_mapping'] > 1]['user_id_mapping'])"
   ]
  },
  {
   "cell_type": "code",
   "execution_count": 5,
   "metadata": {},
   "outputs": [
    {
     "data": {
      "text/html": [
       "<div>\n",
       "<style scoped>\n",
       "    .dataframe tbody tr th:only-of-type {\n",
       "        vertical-align: middle;\n",
       "    }\n",
       "\n",
       "    .dataframe tbody tr th {\n",
       "        vertical-align: top;\n",
       "    }\n",
       "\n",
       "    .dataframe thead th {\n",
       "        text-align: right;\n",
       "    }\n",
       "</style>\n",
       "<table border=\"1\" class=\"dataframe\">\n",
       "  <thead>\n",
       "    <tr style=\"text-align: right;\">\n",
       "      <th></th>\n",
       "      <th>user_id_mapping</th>\n",
       "      <th>user_id</th>\n",
       "    </tr>\n",
       "  </thead>\n",
       "  <tbody>\n",
       "    <tr>\n",
       "      <th>3716</th>\n",
       "      <td>22</td>\n",
       "      <td>3716</td>\n",
       "    </tr>\n",
       "    <tr>\n",
       "      <th>9826</th>\n",
       "      <td>20</td>\n",
       "      <td>9826</td>\n",
       "    </tr>\n",
       "    <tr>\n",
       "      <th>5224</th>\n",
       "      <td>19</td>\n",
       "      <td>5224</td>\n",
       "    </tr>\n",
       "  </tbody>\n",
       "</table>\n",
       "</div>"
      ],
      "text/plain": [
       "      user_id_mapping  user_id\n",
       "3716               22     3716\n",
       "9826               20     9826\n",
       "5224               19     5224"
      ]
     },
     "execution_count": 5,
     "metadata": {},
     "output_type": "execute_result"
    }
   ],
   "source": [
    "feq['user_id'] = feq.index\n",
    "feq.head(3)"
   ]
  },
  {
   "cell_type": "code",
   "execution_count": 6,
   "metadata": {},
   "outputs": [],
   "source": [
    "feq['user_seg'] = [None] * len(feq)"
   ]
  },
  {
   "cell_type": "code",
   "execution_count": 7,
   "metadata": {},
   "outputs": [],
   "source": [
    "# category customers into new(just 1 books), normal(1-5) , vip\n",
    "feq['user_seg']  = np.where((feq['user_id_mapping'] == 1), 'new', feq['user_seg'] )\n",
    "feq['user_seg']  = np.where(((feq['user_id_mapping'] > 1) & (feq['user_id_mapping'] <= 5)) , 'normal',feq['user_seg'])\n",
    "feq['user_seg']  = np.where((feq['user_id_mapping'] > 5) , 'vip',feq['user_seg'])"
   ]
  },
  {
   "cell_type": "code",
   "execution_count": 8,
   "metadata": {},
   "outputs": [
    {
     "data": {
      "text/plain": [
       "normal    41601\n",
       "new       18380\n",
       "vip        6928\n",
       "Name: user_seg, dtype: int64"
      ]
     },
     "execution_count": 8,
     "metadata": {},
     "output_type": "execute_result"
    }
   ],
   "source": [
    "feq['user_seg'].value_counts()"
   ]
  },
  {
   "cell_type": "code",
   "execution_count": 97,
   "metadata": {},
   "outputs": [
    {
     "data": {
      "text/plain": [
       "<AxesSubplot:xlabel='user_seg', ylabel='Count'>"
      ]
     },
     "execution_count": 97,
     "metadata": {},
     "output_type": "execute_result"
    },
    {
     "data": {
      "image/png": "[encoded data removed]",
      "text/plain": [
       "<Figure size 432x288 with 1 Axes>"
      ]
     },
     "metadata": {
      "needs_background": "light"
     },
     "output_type": "display_data"
    }
   ],
   "source": [
    "sns.histplot(feq['user_seg'])"
   ]
  },
  {
   "cell_type": "code",
   "execution_count": 9,
   "metadata": {},
   "outputs": [],
   "source": [
    "# category customers into new(just 1 books), normal(1-5) , vip\n",
    "feq['user_subseg'] = [None] * len(feq)\n",
    "feq['user_subseg']  = np.where((feq['user_id_mapping'] == 1), 'new', feq['user_subseg'] )\n",
    "feq['user_subseg']  = np.where(((feq['user_id_mapping'] > 1) & (feq['user_id_mapping'] <= 3)) , 'lazy',feq['user_subseg'])\n",
    "feq['user_subseg']  = np.where(((feq['user_id_mapping'] > 3) & (feq['user_id_mapping'] <= 5)) , 'active',feq['user_subseg'])\n",
    "feq['user_subseg']  = np.where((feq['user_id_mapping'] > 5) , 'vip',feq['user_subseg'])"
   ]
  },
  {
   "cell_type": "code",
   "execution_count": 101,
   "metadata": {},
   "outputs": [
    {
     "data": {
      "text/plain": [
       "<AxesSubplot:xlabel='user_subseg', ylabel='Count'>"
      ]
     },
     "execution_count": 101,
     "metadata": {},
     "output_type": "execute_result"
    },
    {
     "data": {
      "image/png": "[encoded data removed]",
      "text/plain": [
       "<Figure size 432x288 with 1 Axes>"
      ]
     },
     "metadata": {
      "needs_background": "light"
     },
     "output_type": "display_data"
    }
   ],
   "source": [
    "sns.histplot(feq['user_subseg'])"
   ]
  },
  {
   "cell_type": "code",
   "execution_count": 10,
   "metadata": {},
   "outputs": [
    {
     "data": {
      "text/plain": [
       "lazy      27955\n",
       "new       18380\n",
       "active    13646\n",
       "vip        6928\n",
       "Name: user_subseg, dtype: int64"
      ]
     },
     "execution_count": 10,
     "metadata": {},
     "output_type": "execute_result"
    }
   ],
   "source": [
    "feq['user_subseg'].value_counts()"
   ]
  },
  {
   "cell_type": "code",
   "execution_count": null,
   "metadata": {},
   "outputs": [],
   "source": []
  },
  {
   "attachments": {},
   "cell_type": "markdown",
   "metadata": {},
   "source": [
    "# master"
   ]
  },
  {
   "cell_type": "code",
   "execution_count": 11,
   "metadata": {},
   "outputs": [
    {
     "name": "stderr",
     "output_type": "stream",
     "text": [
      "C:\\Users\\hanr\\AppData\\Local\\Temp\\ipykernel_17276\\2787029173.py:1: FutureWarning: The default value of regex will change from True to False in a future version. In addition, single character regular expressions will *not* be treated as literal strings when regex=True.\n",
      "  book_meta['genre'] = book_meta['genre'].str.replace('[','')\n",
      "C:\\Users\\hanr\\AppData\\Local\\Temp\\ipykernel_17276\\2787029173.py:2: FutureWarning: The default value of regex will change from True to False in a future version. In addition, single character regular expressions will *not* be treated as literal strings when regex=True.\n",
      "  book_meta['genre'] = book_meta['genre'].str.replace(']','')\n"
     ]
    }
   ],
   "source": [
    "book_meta['genre'] = book_meta['genre'].str.replace('[','')\n",
    "book_meta['genre'] = book_meta['genre'].str.replace(']','')\n",
    "book_meta['genre'] = book_meta['genre'].str.replace('\\'','')\n",
    "book_meta['genre'] = book_meta['genre'].str.replace('`','')"
   ]
  },
  {
   "cell_type": "code",
   "execution_count": 220,
   "metadata": {},
   "outputs": [],
   "source": [
    "book_meta['genre'] = book_meta['genre'].str.split(', ')"
   ]
  },
  {
   "cell_type": "code",
   "execution_count": 221,
   "metadata": {},
   "outputs": [],
   "source": [
    "book_meta = book_meta.explode('genre')"
   ]
  },
  {
   "cell_type": "code",
   "execution_count": 222,
   "metadata": {},
   "outputs": [
    {
     "data": {
      "text/plain": [
       "book_id  title  image_url  url    num_pages  ratings_count  description  genre  name   book_id_mapping\n",
       "False    False  False      False  False      False          False        False  False  False              553\n",
       "dtype: int64"
      ]
     },
     "execution_count": 222,
     "metadata": {},
     "output_type": "execute_result"
    }
   ],
   "source": [
    "book_meta.isna().value_counts()"
   ]
  },
  {
   "cell_type": "code",
   "execution_count": 226,
   "metadata": {},
   "outputs": [
    {
     "data": {
      "text/html": [
       "<div>\n",
       "<style scoped>\n",
       "    .dataframe tbody tr th:only-of-type {\n",
       "        vertical-align: middle;\n",
       "    }\n",
       "\n",
       "    .dataframe tbody tr th {\n",
       "        vertical-align: top;\n",
       "    }\n",
       "\n",
       "    .dataframe thead th {\n",
       "        text-align: right;\n",
       "    }\n",
       "</style>\n",
       "<table border=\"1\" class=\"dataframe\">\n",
       "  <thead>\n",
       "    <tr style=\"text-align: right;\">\n",
       "      <th></th>\n",
       "      <th>book_id</th>\n",
       "      <th>user_id_mapping</th>\n",
       "      <th>title</th>\n",
       "      <th>Actual Rating</th>\n",
       "    </tr>\n",
       "  </thead>\n",
       "  <tbody>\n",
       "    <tr>\n",
       "      <th>0</th>\n",
       "      <td>19057</td>\n",
       "      <td>1537</td>\n",
       "      <td>I Am the Messenger</td>\n",
       "      <td>5</td>\n",
       "    </tr>\n",
       "    <tr>\n",
       "      <th>1</th>\n",
       "      <td>19057</td>\n",
       "      <td>23039</td>\n",
       "      <td>I Am the Messenger</td>\n",
       "      <td>3</td>\n",
       "    </tr>\n",
       "  </tbody>\n",
       "</table>\n",
       "</div>"
      ],
      "text/plain": [
       "   book_id  user_id_mapping               title  Actual Rating\n",
       "0    19057             1537  I Am the Messenger              5\n",
       "1    19057            23039  I Am the Messenger              3"
      ]
     },
     "execution_count": 226,
     "metadata": {},
     "output_type": "execute_result"
    }
   ],
   "source": [
    "master = book_df[['book_id', 'user_id_mapping','title','Actual Rating']]\n",
    "master.head(2)"
   ]
  },
  {
   "cell_type": "code",
   "execution_count": 227,
   "metadata": {},
   "outputs": [
    {
     "data": {
      "text/plain": [
       "book_id  user_id_mapping  title  Actual Rating\n",
       "False    False            False  False            196296\n",
       "dtype: int64"
      ]
     },
     "execution_count": 227,
     "metadata": {},
     "output_type": "execute_result"
    }
   ],
   "source": [
    "master.isna().value_counts()"
   ]
  },
  {
   "cell_type": "code",
   "execution_count": 238,
   "metadata": {},
   "outputs": [
    {
     "data": {
      "text/html": [
       "<div>\n",
       "<style scoped>\n",
       "    .dataframe tbody tr th:only-of-type {\n",
       "        vertical-align: middle;\n",
       "    }\n",
       "\n",
       "    .dataframe tbody tr th {\n",
       "        vertical-align: top;\n",
       "    }\n",
       "\n",
       "    .dataframe thead th {\n",
       "        text-align: right;\n",
       "    }\n",
       "</style>\n",
       "<table border=\"1\" class=\"dataframe\">\n",
       "  <thead>\n",
       "    <tr style=\"text-align: right;\">\n",
       "      <th></th>\n",
       "      <th>book_id</th>\n",
       "      <th>user_id_mapping</th>\n",
       "      <th>title</th>\n",
       "      <th>Actual Rating</th>\n",
       "      <th>num_pages</th>\n",
       "      <th>ratings_count</th>\n",
       "      <th>genre</th>\n",
       "      <th>description</th>\n",
       "      <th>name</th>\n",
       "    </tr>\n",
       "  </thead>\n",
       "  <tbody>\n",
       "    <tr>\n",
       "      <th>0</th>\n",
       "      <td>19057</td>\n",
       "      <td>1537</td>\n",
       "      <td>I Am the Messenger</td>\n",
       "      <td>5</td>\n",
       "      <td>360.0</td>\n",
       "      <td>94968.0</td>\n",
       "      <td>young-adult</td>\n",
       "      <td>protect the diamonds\\nsurvive the clubs\\ndig d...</td>\n",
       "      <td>Markus Zusak</td>\n",
       "    </tr>\n",
       "    <tr>\n",
       "      <th>1</th>\n",
       "      <td>19057</td>\n",
       "      <td>1537</td>\n",
       "      <td>I Am the Messenger</td>\n",
       "      <td>5</td>\n",
       "      <td>360.0</td>\n",
       "      <td>94968.0</td>\n",
       "      <td>fiction</td>\n",
       "      <td>protect the diamonds\\nsurvive the clubs\\ndig d...</td>\n",
       "      <td>Markus Zusak</td>\n",
       "    </tr>\n",
       "    <tr>\n",
       "      <th>2</th>\n",
       "      <td>19057</td>\n",
       "      <td>1537</td>\n",
       "      <td>I Am the Messenger</td>\n",
       "      <td>5</td>\n",
       "      <td>360.0</td>\n",
       "      <td>94968.0</td>\n",
       "      <td>mystery</td>\n",
       "      <td>protect the diamonds\\nsurvive the clubs\\ndig d...</td>\n",
       "      <td>Markus Zusak</td>\n",
       "    </tr>\n",
       "  </tbody>\n",
       "</table>\n",
       "</div>"
      ],
      "text/plain": [
       "   book_id  user_id_mapping               title  Actual Rating  num_pages  \\\n",
       "0    19057             1537  I Am the Messenger              5      360.0   \n",
       "1    19057             1537  I Am the Messenger              5      360.0   \n",
       "2    19057             1537  I Am the Messenger              5      360.0   \n",
       "\n",
       "   ratings_count        genre  \\\n",
       "0        94968.0  young-adult   \n",
       "1        94968.0      fiction   \n",
       "2        94968.0      mystery   \n",
       "\n",
       "                                         description          name  \n",
       "0  protect the diamonds\\nsurvive the clubs\\ndig d...  Markus Zusak  \n",
       "1  protect the diamonds\\nsurvive the clubs\\ndig d...  Markus Zusak  \n",
       "2  protect the diamonds\\nsurvive the clubs\\ndig d...  Markus Zusak  "
      ]
     },
     "execution_count": 238,
     "metadata": {},
     "output_type": "execute_result"
    }
   ],
   "source": [
    "master = master.merge(book_meta[['book_id','num_pages','ratings_count','genre','description','name']], on = 'book_id', how = 'left')\n",
    "master.head(3)"
   ]
  },
  {
   "cell_type": "code",
   "execution_count": 239,
   "metadata": {},
   "outputs": [],
   "source": [
    "master = master.dropna()"
   ]
  },
  {
   "cell_type": "code",
   "execution_count": 240,
   "metadata": {},
   "outputs": [
    {
     "data": {
      "text/plain": [
       "book_id  user_id_mapping  title  Actual Rating  num_pages  ratings_count  genre  description  name \n",
       "False    False            False  False          False      False          False  False        False    99451\n",
       "dtype: int64"
      ]
     },
     "execution_count": 240,
     "metadata": {},
     "output_type": "execute_result"
    }
   ],
   "source": [
    "master.isna().value_counts()"
   ]
  },
  {
   "cell_type": "code",
   "execution_count": null,
   "metadata": {},
   "outputs": [],
   "source": [
    "master = master.merge(feq,on = 'user_id_mapping', how = 'left')\n",
    "master"
   ]
  },
  {
   "cell_type": "code",
   "execution_count": 242,
   "metadata": {},
   "outputs": [
    {
     "data": {
      "text/plain": [
       "book_id  user_id_mapping  title  Actual Rating  num_pages  ratings_count  genre  description  name   feq    user_seg  user_subseg\n",
       "False    False            False  False          False      False          False  False        False  False  False     False          99451\n",
       "dtype: int64"
      ]
     },
     "execution_count": 242,
     "metadata": {},
     "output_type": "execute_result"
    }
   ],
   "source": [
    "master.isna().value_counts()"
   ]
  },
  {
   "cell_type": "code",
   "execution_count": 244,
   "metadata": {},
   "outputs": [],
   "source": [
    "master.to_csv('../output/master.csv')"
   ]
  },
  {
   "cell_type": "markdown",
   "metadata": {},
   "source": [
    "# EDA"
   ]
  },
  {
   "cell_type": "code",
   "execution_count": 12,
   "metadata": {},
   "outputs": [],
   "source": [
    "master = pd.read_csv(\"../output/master.csv\",index_col=0)"
   ]
  },
  {
   "cell_type": "code",
   "execution_count": 13,
   "metadata": {},
   "outputs": [
    {
     "data": {
      "text/html": [
       "<div>\n",
       "<style scoped>\n",
       "    .dataframe tbody tr th:only-of-type {\n",
       "        vertical-align: middle;\n",
       "    }\n",
       "\n",
       "    .dataframe tbody tr th {\n",
       "        vertical-align: top;\n",
       "    }\n",
       "\n",
       "    .dataframe thead th {\n",
       "        text-align: right;\n",
       "    }\n",
       "</style>\n",
       "<table border=\"1\" class=\"dataframe\">\n",
       "  <thead>\n",
       "    <tr style=\"text-align: right;\">\n",
       "      <th></th>\n",
       "      <th>book_id</th>\n",
       "      <th>user_id_mapping</th>\n",
       "      <th>title</th>\n",
       "      <th>Actual Rating</th>\n",
       "      <th>num_pages</th>\n",
       "      <th>ratings_count</th>\n",
       "      <th>genre</th>\n",
       "      <th>description</th>\n",
       "      <th>name</th>\n",
       "      <th>feq</th>\n",
       "      <th>user_seg</th>\n",
       "      <th>user_subseg</th>\n",
       "    </tr>\n",
       "  </thead>\n",
       "  <tbody>\n",
       "    <tr>\n",
       "      <th>0</th>\n",
       "      <td>19057</td>\n",
       "      <td>1537</td>\n",
       "      <td>I Am the Messenger</td>\n",
       "      <td>5</td>\n",
       "      <td>360.0</td>\n",
       "      <td>94968.0</td>\n",
       "      <td>young-adult</td>\n",
       "      <td>protect the diamonds\\nsurvive the clubs\\ndig d...</td>\n",
       "      <td>Markus Zusak</td>\n",
       "      <td>8</td>\n",
       "      <td>vip</td>\n",
       "      <td>vip</td>\n",
       "    </tr>\n",
       "    <tr>\n",
       "      <th>1</th>\n",
       "      <td>19057</td>\n",
       "      <td>1537</td>\n",
       "      <td>I Am the Messenger</td>\n",
       "      <td>5</td>\n",
       "      <td>360.0</td>\n",
       "      <td>94968.0</td>\n",
       "      <td>fiction</td>\n",
       "      <td>protect the diamonds\\nsurvive the clubs\\ndig d...</td>\n",
       "      <td>Markus Zusak</td>\n",
       "      <td>8</td>\n",
       "      <td>vip</td>\n",
       "      <td>vip</td>\n",
       "    </tr>\n",
       "    <tr>\n",
       "      <th>2</th>\n",
       "      <td>19057</td>\n",
       "      <td>1537</td>\n",
       "      <td>I Am the Messenger</td>\n",
       "      <td>5</td>\n",
       "      <td>360.0</td>\n",
       "      <td>94968.0</td>\n",
       "      <td>mystery</td>\n",
       "      <td>protect the diamonds\\nsurvive the clubs\\ndig d...</td>\n",
       "      <td>Markus Zusak</td>\n",
       "      <td>8</td>\n",
       "      <td>vip</td>\n",
       "      <td>vip</td>\n",
       "    </tr>\n",
       "    <tr>\n",
       "      <th>3</th>\n",
       "      <td>19057</td>\n",
       "      <td>1537</td>\n",
       "      <td>I Am the Messenger</td>\n",
       "      <td>5</td>\n",
       "      <td>360.0</td>\n",
       "      <td>94968.0</td>\n",
       "      <td>thriller</td>\n",
       "      <td>protect the diamonds\\nsurvive the clubs\\ndig d...</td>\n",
       "      <td>Markus Zusak</td>\n",
       "      <td>8</td>\n",
       "      <td>vip</td>\n",
       "      <td>vip</td>\n",
       "    </tr>\n",
       "    <tr>\n",
       "      <th>4</th>\n",
       "      <td>19057</td>\n",
       "      <td>1537</td>\n",
       "      <td>I Am the Messenger</td>\n",
       "      <td>5</td>\n",
       "      <td>360.0</td>\n",
       "      <td>94968.0</td>\n",
       "      <td>crime</td>\n",
       "      <td>protect the diamonds\\nsurvive the clubs\\ndig d...</td>\n",
       "      <td>Markus Zusak</td>\n",
       "      <td>8</td>\n",
       "      <td>vip</td>\n",
       "      <td>vip</td>\n",
       "    </tr>\n",
       "  </tbody>\n",
       "</table>\n",
       "</div>"
      ],
      "text/plain": [
       "   book_id  user_id_mapping               title  Actual Rating  num_pages  \\\n",
       "0    19057             1537  I Am the Messenger              5      360.0   \n",
       "1    19057             1537  I Am the Messenger              5      360.0   \n",
       "2    19057             1537  I Am the Messenger              5      360.0   \n",
       "3    19057             1537  I Am the Messenger              5      360.0   \n",
       "4    19057             1537  I Am the Messenger              5      360.0   \n",
       "\n",
       "   ratings_count        genre  \\\n",
       "0        94968.0  young-adult   \n",
       "1        94968.0      fiction   \n",
       "2        94968.0      mystery   \n",
       "3        94968.0     thriller   \n",
       "4        94968.0        crime   \n",
       "\n",
       "                                         description          name  feq  \\\n",
       "0  protect the diamonds\\nsurvive the clubs\\ndig d...  Markus Zusak    8   \n",
       "1  protect the diamonds\\nsurvive the clubs\\ndig d...  Markus Zusak    8   \n",
       "2  protect the diamonds\\nsurvive the clubs\\ndig d...  Markus Zusak    8   \n",
       "3  protect the diamonds\\nsurvive the clubs\\ndig d...  Markus Zusak    8   \n",
       "4  protect the diamonds\\nsurvive the clubs\\ndig d...  Markus Zusak    8   \n",
       "\n",
       "  user_seg user_subseg  \n",
       "0      vip         vip  \n",
       "1      vip         vip  \n",
       "2      vip         vip  \n",
       "3      vip         vip  \n",
       "4      vip         vip  "
      ]
     },
     "execution_count": 13,
     "metadata": {},
     "output_type": "execute_result"
    }
   ],
   "source": [
    "master.head()"
   ]
  },
  {
   "cell_type": "code",
   "execution_count": 323,
   "metadata": {},
   "outputs": [
    {
     "data": {
      "text/plain": [
       "fiction               16914\n",
       "young-adult           12370\n",
       "paranormal            11743\n",
       "fantasy               11743\n",
       "romance                9649\n",
       "thriller               4741\n",
       "crime                  4741\n",
       "mystery                4741\n",
       "children               4421\n",
       "biography              3674\n",
       "historical fiction     3674\n",
       "history                3674\n",
       "non-fiction            2395\n",
       "graphic                1986\n",
       "comics                 1986\n",
       "poetry                  999\n",
       "Name: genre, dtype: int64"
      ]
     },
     "execution_count": 323,
     "metadata": {},
     "output_type": "execute_result"
    }
   ],
   "source": [
    "master['genre'].value_counts()"
   ]
  },
  {
   "cell_type": "code",
   "execution_count": 333,
   "metadata": {},
   "outputs": [
    {
     "data": {
      "text/plain": [
       "<seaborn.axisgrid.FacetGrid at 0x1a8915aad90>"
      ]
     },
     "execution_count": 333,
     "metadata": {},
     "output_type": "execute_result"
    },
    {
     "data": {
      "image/png": "[encoded data removed]",
      "text/plain": [
       "<Figure size 360x360 with 1 Axes>"
      ]
     },
     "metadata": {
      "needs_background": "light"
     },
     "output_type": "display_data"
    }
   ],
   "source": [
    "sns.displot(master['genre'])"
   ]
  },
  {
   "cell_type": "markdown",
   "metadata": {},
   "source": [
    "##  user_df"
   ]
  },
  {
   "cell_type": "code",
   "execution_count": 41,
   "metadata": {},
   "outputs": [],
   "source": [
    "user_df = master.groupby('user_id_mapping').agg(\n",
    "        mean_num_pages = ('num_pages','mean'),\n",
    "    mean_num_rating = ('Actual Rating','mean'),\n",
    "    mean_rating_count = ('ratings_count', 'mean')\n",
    ")"
   ]
  },
  {
   "cell_type": "code",
   "execution_count": 42,
   "metadata": {},
   "outputs": [
    {
     "data": {
      "text/html": [
       "<div>\n",
       "<style scoped>\n",
       "    .dataframe tbody tr th:only-of-type {\n",
       "        vertical-align: middle;\n",
       "    }\n",
       "\n",
       "    .dataframe tbody tr th {\n",
       "        vertical-align: top;\n",
       "    }\n",
       "\n",
       "    .dataframe thead th {\n",
       "        text-align: right;\n",
       "    }\n",
       "</style>\n",
       "<table border=\"1\" class=\"dataframe\">\n",
       "  <thead>\n",
       "    <tr style=\"text-align: right;\">\n",
       "      <th></th>\n",
       "      <th>mean_num_pages</th>\n",
       "      <th>mean_num_rating</th>\n",
       "      <th>mean_rating_count</th>\n",
       "    </tr>\n",
       "    <tr>\n",
       "      <th>user_id_mapping</th>\n",
       "      <th></th>\n",
       "      <th></th>\n",
       "      <th></th>\n",
       "    </tr>\n",
       "  </thead>\n",
       "  <tbody>\n",
       "    <tr>\n",
       "      <th>0</th>\n",
       "      <td>224.258065</td>\n",
       "      <td>3.870968</td>\n",
       "      <td>1.899387e+05</td>\n",
       "    </tr>\n",
       "    <tr>\n",
       "      <th>1</th>\n",
       "      <td>254.000000</td>\n",
       "      <td>4.000000</td>\n",
       "      <td>2.083940e+05</td>\n",
       "    </tr>\n",
       "    <tr>\n",
       "      <th>3</th>\n",
       "      <td>283.000000</td>\n",
       "      <td>4.000000</td>\n",
       "      <td>9.843800e+04</td>\n",
       "    </tr>\n",
       "    <tr>\n",
       "      <th>4</th>\n",
       "      <td>528.000000</td>\n",
       "      <td>4.000000</td>\n",
       "      <td>8.386600e+04</td>\n",
       "    </tr>\n",
       "    <tr>\n",
       "      <th>7</th>\n",
       "      <td>503.000000</td>\n",
       "      <td>4.000000</td>\n",
       "      <td>1.128913e+06</td>\n",
       "    </tr>\n",
       "  </tbody>\n",
       "</table>\n",
       "</div>"
      ],
      "text/plain": [
       "                 mean_num_pages  mean_num_rating  mean_rating_count\n",
       "user_id_mapping                                                    \n",
       "0                    224.258065         3.870968       1.899387e+05\n",
       "1                    254.000000         4.000000       2.083940e+05\n",
       "3                    283.000000         4.000000       9.843800e+04\n",
       "4                    528.000000         4.000000       8.386600e+04\n",
       "7                    503.000000         4.000000       1.128913e+06"
      ]
     },
     "execution_count": 42,
     "metadata": {},
     "output_type": "execute_result"
    }
   ],
   "source": [
    "user_df.head()"
   ]
  },
  {
   "cell_type": "code",
   "execution_count": 47,
   "metadata": {},
   "outputs": [],
   "source": [
    "feq.columns = ['amount','user_id_mapping','user_seg','user_subseg']"
   ]
  },
  {
   "cell_type": "code",
   "execution_count": 48,
   "metadata": {},
   "outputs": [
    {
     "data": {
      "text/html": [
       "<div>\n",
       "<style scoped>\n",
       "    .dataframe tbody tr th:only-of-type {\n",
       "        vertical-align: middle;\n",
       "    }\n",
       "\n",
       "    .dataframe tbody tr th {\n",
       "        vertical-align: top;\n",
       "    }\n",
       "\n",
       "    .dataframe thead th {\n",
       "        text-align: right;\n",
       "    }\n",
       "</style>\n",
       "<table border=\"1\" class=\"dataframe\">\n",
       "  <thead>\n",
       "    <tr style=\"text-align: right;\">\n",
       "      <th></th>\n",
       "      <th>user_id_mapping</th>\n",
       "      <th>mean_num_pages</th>\n",
       "      <th>mean_num_rating</th>\n",
       "      <th>mean_rating_count</th>\n",
       "      <th>amount</th>\n",
       "    </tr>\n",
       "  </thead>\n",
       "  <tbody>\n",
       "    <tr>\n",
       "      <th>0</th>\n",
       "      <td>0</td>\n",
       "      <td>224.258065</td>\n",
       "      <td>3.870968</td>\n",
       "      <td>1.899387e+05</td>\n",
       "      <td>7</td>\n",
       "    </tr>\n",
       "    <tr>\n",
       "      <th>1</th>\n",
       "      <td>1</td>\n",
       "      <td>254.000000</td>\n",
       "      <td>4.000000</td>\n",
       "      <td>2.083940e+05</td>\n",
       "      <td>10</td>\n",
       "    </tr>\n",
       "    <tr>\n",
       "      <th>2</th>\n",
       "      <td>3</td>\n",
       "      <td>283.000000</td>\n",
       "      <td>4.000000</td>\n",
       "      <td>9.843800e+04</td>\n",
       "      <td>4</td>\n",
       "    </tr>\n",
       "    <tr>\n",
       "      <th>3</th>\n",
       "      <td>4</td>\n",
       "      <td>528.000000</td>\n",
       "      <td>4.000000</td>\n",
       "      <td>8.386600e+04</td>\n",
       "      <td>2</td>\n",
       "    </tr>\n",
       "    <tr>\n",
       "      <th>4</th>\n",
       "      <td>7</td>\n",
       "      <td>503.000000</td>\n",
       "      <td>4.000000</td>\n",
       "      <td>1.128913e+06</td>\n",
       "      <td>5</td>\n",
       "    </tr>\n",
       "  </tbody>\n",
       "</table>\n",
       "</div>"
      ],
      "text/plain": [
       "   user_id_mapping  mean_num_pages  mean_num_rating  mean_rating_count  amount\n",
       "0                0      224.258065         3.870968       1.899387e+05       7\n",
       "1                1      254.000000         4.000000       2.083940e+05      10\n",
       "2                3      283.000000         4.000000       9.843800e+04       4\n",
       "3                4      528.000000         4.000000       8.386600e+04       2\n",
       "4                7      503.000000         4.000000       1.128913e+06       5"
      ]
     },
     "execution_count": 48,
     "metadata": {},
     "output_type": "execute_result"
    }
   ],
   "source": [
    "user_df = user_df.merge(feq[['user_id_mapping','amount']], on = 'user_id_mapping',how = 'left')\n",
    "user_df.head()"
   ]
  },
  {
   "cell_type": "code",
   "execution_count": 265,
   "metadata": {},
   "outputs": [
    {
     "data": {
      "text/plain": [
       "<seaborn.axisgrid.FacetGrid at 0x1a8daf0fa90>"
      ]
     },
     "execution_count": 265,
     "metadata": {},
     "output_type": "execute_result"
    },
    {
     "data": {
      "image/png": "[encoded data removed]",
      "text/plain": [
       "<Figure size 360x360 with 1 Axes>"
      ]
     },
     "metadata": {
      "needs_background": "light"
     },
     "output_type": "display_data"
    }
   ],
   "source": [
    "sns.catplot(\n",
    "    data=user_df, x=\"user_seg\", y=\"mean_num_pages\",\n",
    "    kind=\"box\", dodge=False,\n",
    ")"
   ]
  },
  {
   "cell_type": "code",
   "execution_count": 269,
   "metadata": {},
   "outputs": [
    {
     "data": {
      "text/plain": [
       "<seaborn.axisgrid.FacetGrid at 0x1a8db0c7fa0>"
      ]
     },
     "execution_count": 269,
     "metadata": {},
     "output_type": "execute_result"
    },
    {
     "data": {
      "image/png": "[encoded data removed]",
      "text/plain": [
       "<Figure size 360x360 with 1 Axes>"
      ]
     },
     "metadata": {
      "needs_background": "light"
     },
     "output_type": "display_data"
    }
   ],
   "source": [
    "sns.catplot(\n",
    "    data=user_df, x=\"user_subseg\", y=\"mean_num_pages\",\n",
    "    kind=\"box\", dodge=False,\n",
    ")"
   ]
  },
  {
   "cell_type": "code",
   "execution_count": 270,
   "metadata": {},
   "outputs": [
    {
     "data": {
      "text/plain": [
       "<seaborn.axisgrid.FacetGrid at 0x1a88e0d2790>"
      ]
     },
     "execution_count": 270,
     "metadata": {},
     "output_type": "execute_result"
    },
    {
     "data": {
      "image/png": "[encoded data removed]",
      "text/plain": [
       "<Figure size 360x360 with 1 Axes>"
      ]
     },
     "metadata": {
      "needs_background": "light"
     },
     "output_type": "display_data"
    }
   ],
   "source": [
    "sns.catplot(\n",
    "    data=user_df, x=\"user_subseg\", y=\"mean_num_rating\",\n",
    "    kind=\"box\", dodge=False,\n",
    ")"
   ]
  },
  {
   "cell_type": "code",
   "execution_count": 272,
   "metadata": {},
   "outputs": [
    {
     "data": {
      "text/plain": [
       "<seaborn.axisgrid.FacetGrid at 0x1a88e210ee0>"
      ]
     },
     "execution_count": 272,
     "metadata": {},
     "output_type": "execute_result"
    },
    {
     "data": {
      "image/png": "[encoded data removed]",
      "text/plain": [
       "<Figure size 360x360 with 1 Axes>"
      ]
     },
     "metadata": {
      "needs_background": "light"
     },
     "output_type": "display_data"
    }
   ],
   "source": [
    "\n",
    "sns.catplot(\n",
    "    data=user_df, x=\"user_subseg\", y=\"mean_rating_count\",\n",
    "    kind=\"box\", dodge=False,\n",
    ")"
   ]
  },
  {
   "attachments": {},
   "cell_type": "markdown",
   "metadata": {},
   "source": [
    "## genre EDA"
   ]
  },
  {
   "cell_type": "code",
   "execution_count": 280,
   "metadata": {},
   "outputs": [
    {
     "data": {
      "text/plain": [
       "<pandas.core.groupby.generic.DataFrameGroupBy object at 0x000001A88E210D00>"
      ]
     },
     "execution_count": 280,
     "metadata": {},
     "output_type": "execute_result"
    }
   ],
   "source": [
    "master.groupby('user_seg')"
   ]
  },
  {
   "cell_type": "code",
   "execution_count": 283,
   "metadata": {},
   "outputs": [
    {
     "data": {
      "text/plain": [
       "normal    41601\n",
       "new       18380\n",
       "vip        6928\n",
       "Name: user_seg, dtype: int64"
      ]
     },
     "execution_count": 283,
     "metadata": {},
     "output_type": "execute_result"
    }
   ],
   "source": [
    "feq['user_seg'].value_counts()"
   ]
  },
  {
   "cell_type": "code",
   "execution_count": 296,
   "metadata": {},
   "outputs": [
    {
     "data": {
      "text/html": [
       "<div>\n",
       "<style scoped>\n",
       "    .dataframe tbody tr th:only-of-type {\n",
       "        vertical-align: middle;\n",
       "    }\n",
       "\n",
       "    .dataframe tbody tr th {\n",
       "        vertical-align: top;\n",
       "    }\n",
       "\n",
       "    .dataframe thead th {\n",
       "        text-align: right;\n",
       "    }\n",
       "</style>\n",
       "<table border=\"1\" class=\"dataframe\">\n",
       "  <thead>\n",
       "    <tr style=\"text-align: right;\">\n",
       "      <th></th>\n",
       "      <th>count</th>\n",
       "      <th>subseg_per</th>\n",
       "    </tr>\n",
       "    <tr>\n",
       "      <th>user_subseg</th>\n",
       "      <th></th>\n",
       "      <th></th>\n",
       "    </tr>\n",
       "  </thead>\n",
       "  <tbody>\n",
       "    <tr>\n",
       "      <th>active</th>\n",
       "      <td>13646</td>\n",
       "      <td>0.203949</td>\n",
       "    </tr>\n",
       "    <tr>\n",
       "      <th>lazy</th>\n",
       "      <td>27955</td>\n",
       "      <td>0.417806</td>\n",
       "    </tr>\n",
       "    <tr>\n",
       "      <th>new</th>\n",
       "      <td>18380</td>\n",
       "      <td>0.274701</td>\n",
       "    </tr>\n",
       "    <tr>\n",
       "      <th>vip</th>\n",
       "      <td>6928</td>\n",
       "      <td>0.103544</td>\n",
       "    </tr>\n",
       "  </tbody>\n",
       "</table>\n",
       "</div>"
      ],
      "text/plain": [
       "             count  subseg_per\n",
       "user_subseg                   \n",
       "active       13646    0.203949\n",
       "lazy         27955    0.417806\n",
       "new          18380    0.274701\n",
       "vip           6928    0.103544"
      ]
     },
     "execution_count": 296,
     "metadata": {},
     "output_type": "execute_result"
    }
   ],
   "source": [
    "df = feq.groupby('user_subseg').agg(count = ('user_id_mapping','nunique'))\n",
    "df['subseg_per'] = df['count'] / sum(df['count'])\n",
    "df"
   ]
  },
  {
   "cell_type": "code",
   "execution_count": 302,
   "metadata": {},
   "outputs": [
    {
     "data": {
      "text/html": [
       "<div>\n",
       "<style scoped>\n",
       "    .dataframe tbody tr th:only-of-type {\n",
       "        vertical-align: middle;\n",
       "    }\n",
       "\n",
       "    .dataframe tbody tr th {\n",
       "        vertical-align: top;\n",
       "    }\n",
       "\n",
       "    .dataframe thead th {\n",
       "        text-align: right;\n",
       "    }\n",
       "</style>\n",
       "<table border=\"1\" class=\"dataframe\">\n",
       "  <thead>\n",
       "    <tr style=\"text-align: right;\">\n",
       "      <th></th>\n",
       "      <th>user_subseg</th>\n",
       "      <th>genre</th>\n",
       "      <th>count</th>\n",
       "      <th>subseg_per</th>\n",
       "    </tr>\n",
       "  </thead>\n",
       "  <tbody>\n",
       "    <tr>\n",
       "      <th>0</th>\n",
       "      <td>active</td>\n",
       "      <td>biography</td>\n",
       "      <td>1123</td>\n",
       "      <td>0.203949</td>\n",
       "    </tr>\n",
       "    <tr>\n",
       "      <th>1</th>\n",
       "      <td>active</td>\n",
       "      <td>children</td>\n",
       "      <td>1404</td>\n",
       "      <td>0.203949</td>\n",
       "    </tr>\n",
       "    <tr>\n",
       "      <th>2</th>\n",
       "      <td>active</td>\n",
       "      <td>comics</td>\n",
       "      <td>597</td>\n",
       "      <td>0.203949</td>\n",
       "    </tr>\n",
       "    <tr>\n",
       "      <th>3</th>\n",
       "      <td>active</td>\n",
       "      <td>crime</td>\n",
       "      <td>1412</td>\n",
       "      <td>0.203949</td>\n",
       "    </tr>\n",
       "    <tr>\n",
       "      <th>4</th>\n",
       "      <td>active</td>\n",
       "      <td>fantasy</td>\n",
       "      <td>3540</td>\n",
       "      <td>0.203949</td>\n",
       "    </tr>\n",
       "    <tr>\n",
       "      <th>...</th>\n",
       "      <td>...</td>\n",
       "      <td>...</td>\n",
       "      <td>...</td>\n",
       "      <td>...</td>\n",
       "    </tr>\n",
       "    <tr>\n",
       "      <th>59</th>\n",
       "      <td>vip</td>\n",
       "      <td>paranormal</td>\n",
       "      <td>2960</td>\n",
       "      <td>0.103544</td>\n",
       "    </tr>\n",
       "    <tr>\n",
       "      <th>60</th>\n",
       "      <td>vip</td>\n",
       "      <td>poetry</td>\n",
       "      <td>251</td>\n",
       "      <td>0.103544</td>\n",
       "    </tr>\n",
       "    <tr>\n",
       "      <th>61</th>\n",
       "      <td>vip</td>\n",
       "      <td>romance</td>\n",
       "      <td>2333</td>\n",
       "      <td>0.103544</td>\n",
       "    </tr>\n",
       "    <tr>\n",
       "      <th>62</th>\n",
       "      <td>vip</td>\n",
       "      <td>thriller</td>\n",
       "      <td>1161</td>\n",
       "      <td>0.103544</td>\n",
       "    </tr>\n",
       "    <tr>\n",
       "      <th>63</th>\n",
       "      <td>vip</td>\n",
       "      <td>young-adult</td>\n",
       "      <td>3110</td>\n",
       "      <td>0.103544</td>\n",
       "    </tr>\n",
       "  </tbody>\n",
       "</table>\n",
       "<p>64 rows × 4 columns</p>\n",
       "</div>"
      ],
      "text/plain": [
       "   user_subseg        genre  count  subseg_per\n",
       "0       active    biography   1123    0.203949\n",
       "1       active     children   1404    0.203949\n",
       "2       active       comics    597    0.203949\n",
       "3       active        crime   1412    0.203949\n",
       "4       active      fantasy   3540    0.203949\n",
       "..         ...          ...    ...         ...\n",
       "59         vip   paranormal   2960    0.103544\n",
       "60         vip       poetry    251    0.103544\n",
       "61         vip      romance   2333    0.103544\n",
       "62         vip     thriller   1161    0.103544\n",
       "63         vip  young-adult   3110    0.103544\n",
       "\n",
       "[64 rows x 4 columns]"
      ]
     },
     "execution_count": 302,
     "metadata": {},
     "output_type": "execute_result"
    }
   ],
   "source": [
    "master.groupby(['user_subseg','genre'])['genre'].size().reset_index(name='count').merge(df.drop('count',axis = 1),on = 'user_subseg',how = 'left')"
   ]
  },
  {
   "cell_type": "code",
   "execution_count": 303,
   "metadata": {},
   "outputs": [],
   "source": [
    "genre_df = master.groupby(['user_subseg','genre'])['genre'].size().reset_index(name='count').merge(df.drop('count',axis = 1),on = 'user_subseg',how = 'left')"
   ]
  },
  {
   "cell_type": "code",
   "execution_count": 305,
   "metadata": {},
   "outputs": [
    {
     "data": {
      "text/html": [
       "<div>\n",
       "<style scoped>\n",
       "    .dataframe tbody tr th:only-of-type {\n",
       "        vertical-align: middle;\n",
       "    }\n",
       "\n",
       "    .dataframe tbody tr th {\n",
       "        vertical-align: top;\n",
       "    }\n",
       "\n",
       "    .dataframe thead th {\n",
       "        text-align: right;\n",
       "    }\n",
       "</style>\n",
       "<table border=\"1\" class=\"dataframe\">\n",
       "  <thead>\n",
       "    <tr style=\"text-align: right;\">\n",
       "      <th></th>\n",
       "      <th>user_subseg</th>\n",
       "      <th>genre</th>\n",
       "      <th>count</th>\n",
       "      <th>subseg_per</th>\n",
       "      <th>normalized_count</th>\n",
       "    </tr>\n",
       "  </thead>\n",
       "  <tbody>\n",
       "    <tr>\n",
       "      <th>0</th>\n",
       "      <td>active</td>\n",
       "      <td>biography</td>\n",
       "      <td>1123</td>\n",
       "      <td>0.203949</td>\n",
       "      <td>229.034330</td>\n",
       "    </tr>\n",
       "    <tr>\n",
       "      <th>1</th>\n",
       "      <td>active</td>\n",
       "      <td>children</td>\n",
       "      <td>1404</td>\n",
       "      <td>0.203949</td>\n",
       "      <td>286.343900</td>\n",
       "    </tr>\n",
       "    <tr>\n",
       "      <th>2</th>\n",
       "      <td>active</td>\n",
       "      <td>comics</td>\n",
       "      <td>597</td>\n",
       "      <td>0.203949</td>\n",
       "      <td>121.757342</td>\n",
       "    </tr>\n",
       "    <tr>\n",
       "      <th>3</th>\n",
       "      <td>active</td>\n",
       "      <td>crime</td>\n",
       "      <td>1412</td>\n",
       "      <td>0.203949</td>\n",
       "      <td>287.975489</td>\n",
       "    </tr>\n",
       "    <tr>\n",
       "      <th>4</th>\n",
       "      <td>active</td>\n",
       "      <td>fantasy</td>\n",
       "      <td>3540</td>\n",
       "      <td>0.203949</td>\n",
       "      <td>721.978209</td>\n",
       "    </tr>\n",
       "  </tbody>\n",
       "</table>\n",
       "</div>"
      ],
      "text/plain": [
       "  user_subseg      genre  count  subseg_per  normalized_count\n",
       "0      active  biography   1123    0.203949        229.034330\n",
       "1      active   children   1404    0.203949        286.343900\n",
       "2      active     comics    597    0.203949        121.757342\n",
       "3      active      crime   1412    0.203949        287.975489\n",
       "4      active    fantasy   3540    0.203949        721.978209"
      ]
     },
     "execution_count": 305,
     "metadata": {},
     "output_type": "execute_result"
    }
   ],
   "source": [
    "genre_df['normalized_count'] = genre_df['count'] * genre_df['subseg_per']\n",
    "genre_df.head()"
   ]
  },
  {
   "cell_type": "code",
   "execution_count": 322,
   "metadata": {},
   "outputs": [
    {
     "data": {
      "text/plain": [
       "<AxesSubplot:xlabel='genre', ylabel='normalized_count'>"
      ]
     },
     "execution_count": 322,
     "metadata": {},
     "output_type": "execute_result"
    },
    {
     "data": {
      "image/png": "[encoded data removed]",
      "text/plain": [
       "<Figure size 1080x720 with 1 Axes>"
      ]
     },
     "metadata": {
      "needs_background": "light"
     },
     "output_type": "display_data"
    }
   ],
   "source": [
    "f, axs = plt.subplots(1, 1, figsize=(15,10))\n",
    "sns.barplot(data = genre_df, x = 'genre',y ='normalized_count',hue = 'user_subseg')"
   ]
  },
  {
   "cell_type": "code",
   "execution_count": 317,
   "metadata": {},
   "outputs": [
    {
     "name": "stderr",
     "output_type": "stream",
     "text": [
      "d:\\Program Files\\anaconda3\\lib\\site-packages\\seaborn\\axisgrid.py:643: UserWarning: Using the barplot function without specifying `order` is likely to produce an incorrect plot.\n",
      "  warnings.warn(warning)\n"
     ]
    },
    {
     "data": {
      "text/plain": [
       "<seaborn.axisgrid.FacetGrid at 0x1a8918c1940>"
      ]
     },
     "execution_count": 317,
     "metadata": {},
     "output_type": "execute_result"
    },
    {
     "data": {
      "image/png": "[encoded data removed]",
      "text/plain": [
       "<Figure size 1008x504 with 4 Axes>"
      ]
     },
     "metadata": {
      "needs_background": "light"
     },
     "output_type": "display_data"
    }
   ],
   "source": [
    "g = sns.FacetGrid(genre_df, col=\"user_subseg\", height=7, aspect=.5)\n",
    "g.map(sns.barplot, \"genre\", \"normalized_count\", )\n",
    "g.set_xticklabels(rotation=45)"
   ]
  },
  {
   "cell_type": "markdown",
   "metadata": {},
   "source": [
    "## Genre preference"
   ]
  },
  {
   "cell_type": "code",
   "execution_count": 15,
   "metadata": {},
   "outputs": [
    {
     "data": {
      "text/html": [
       "<div>\n",
       "<style scoped>\n",
       "    .dataframe tbody tr th:only-of-type {\n",
       "        vertical-align: middle;\n",
       "    }\n",
       "\n",
       "    .dataframe tbody tr th {\n",
       "        vertical-align: top;\n",
       "    }\n",
       "\n",
       "    .dataframe thead th {\n",
       "        text-align: right;\n",
       "    }\n",
       "</style>\n",
       "<table border=\"1\" class=\"dataframe\">\n",
       "  <thead>\n",
       "    <tr style=\"text-align: right;\">\n",
       "      <th></th>\n",
       "      <th>book_id</th>\n",
       "      <th>user_id_mapping</th>\n",
       "      <th>title</th>\n",
       "      <th>Actual Rating</th>\n",
       "      <th>num_pages</th>\n",
       "      <th>ratings_count</th>\n",
       "      <th>genre</th>\n",
       "      <th>description</th>\n",
       "      <th>name</th>\n",
       "      <th>feq</th>\n",
       "      <th>user_seg</th>\n",
       "      <th>user_subseg</th>\n",
       "    </tr>\n",
       "  </thead>\n",
       "  <tbody>\n",
       "    <tr>\n",
       "      <th>0</th>\n",
       "      <td>19057</td>\n",
       "      <td>1537</td>\n",
       "      <td>I Am the Messenger</td>\n",
       "      <td>5</td>\n",
       "      <td>360.0</td>\n",
       "      <td>94968.0</td>\n",
       "      <td>young-adult</td>\n",
       "      <td>protect the diamonds\\nsurvive the clubs\\ndig d...</td>\n",
       "      <td>Markus Zusak</td>\n",
       "      <td>8</td>\n",
       "      <td>vip</td>\n",
       "      <td>vip</td>\n",
       "    </tr>\n",
       "    <tr>\n",
       "      <th>1</th>\n",
       "      <td>19057</td>\n",
       "      <td>1537</td>\n",
       "      <td>I Am the Messenger</td>\n",
       "      <td>5</td>\n",
       "      <td>360.0</td>\n",
       "      <td>94968.0</td>\n",
       "      <td>fiction</td>\n",
       "      <td>protect the diamonds\\nsurvive the clubs\\ndig d...</td>\n",
       "      <td>Markus Zusak</td>\n",
       "      <td>8</td>\n",
       "      <td>vip</td>\n",
       "      <td>vip</td>\n",
       "    </tr>\n",
       "  </tbody>\n",
       "</table>\n",
       "</div>"
      ],
      "text/plain": [
       "   book_id  user_id_mapping               title  Actual Rating  num_pages  \\\n",
       "0    19057             1537  I Am the Messenger              5      360.0   \n",
       "1    19057             1537  I Am the Messenger              5      360.0   \n",
       "\n",
       "   ratings_count        genre  \\\n",
       "0        94968.0  young-adult   \n",
       "1        94968.0      fiction   \n",
       "\n",
       "                                         description          name  feq  \\\n",
       "0  protect the diamonds\\nsurvive the clubs\\ndig d...  Markus Zusak    8   \n",
       "1  protect the diamonds\\nsurvive the clubs\\ndig d...  Markus Zusak    8   \n",
       "\n",
       "  user_seg user_subseg  \n",
       "0      vip         vip  \n",
       "1      vip         vip  "
      ]
     },
     "execution_count": 15,
     "metadata": {},
     "output_type": "execute_result"
    }
   ],
   "source": [
    "master.head(2)"
   ]
  },
  {
   "cell_type": "code",
   "execution_count": 30,
   "metadata": {},
   "outputs": [
    {
     "data": {
      "text/plain": [
       "(array([ 4837.,     0., 12303.,     0.,     0., 42680.,     0., 69813.,\n",
       "            0., 66663.]),\n",
       " array([1. , 1.4, 1.8, 2.2, 2.6, 3. , 3.4, 3.8, 4.2, 4.6, 5. ]),\n",
       " <BarContainer object of 10 artists>)"
      ]
     },
     "execution_count": 30,
     "metadata": {},
     "output_type": "execute_result"
    },
    {
     "data": {
      "image/png": "[encoded data removed]",
      "text/plain": [
       "<Figure size 432x288 with 1 Axes>"
      ]
     },
     "metadata": {
      "needs_background": "light"
     },
     "output_type": "display_data"
    }
   ],
   "source": [
    "plt.hist(book_df['Actual Rating'])"
   ]
  },
  {
   "cell_type": "code",
   "execution_count": 39,
   "metadata": {},
   "outputs": [
    {
     "data": {
      "text/html": [
       "<div>\n",
       "<style scoped>\n",
       "    .dataframe tbody tr th:only-of-type {\n",
       "        vertical-align: middle;\n",
       "    }\n",
       "\n",
       "    .dataframe tbody tr th {\n",
       "        vertical-align: top;\n",
       "    }\n",
       "\n",
       "    .dataframe thead th {\n",
       "        text-align: right;\n",
       "    }\n",
       "</style>\n",
       "<table border=\"1\" class=\"dataframe\">\n",
       "  <thead>\n",
       "    <tr style=\"text-align: right;\">\n",
       "      <th>genre</th>\n",
       "      <th>user_id_mapping</th>\n",
       "      <th>num_biography</th>\n",
       "      <th>num_children</th>\n",
       "      <th>num_comics</th>\n",
       "      <th>num_crime</th>\n",
       "      <th>num_fantasy</th>\n",
       "      <th>num_fiction</th>\n",
       "      <th>num_graphic</th>\n",
       "      <th>num_historical fiction</th>\n",
       "      <th>num_history</th>\n",
       "      <th>num_mystery</th>\n",
       "      <th>num_non-fiction</th>\n",
       "      <th>num_paranormal</th>\n",
       "      <th>num_poetry</th>\n",
       "      <th>num_romance</th>\n",
       "      <th>num_thriller</th>\n",
       "      <th>num_young-adult</th>\n",
       "    </tr>\n",
       "  </thead>\n",
       "  <tbody>\n",
       "    <tr>\n",
       "      <th>0</th>\n",
       "      <td>0</td>\n",
       "      <td>3.0</td>\n",
       "      <td>1.0</td>\n",
       "      <td>2.0</td>\n",
       "      <td>2.0</td>\n",
       "      <td>1.0</td>\n",
       "      <td>3.0</td>\n",
       "      <td>2.0</td>\n",
       "      <td>3.0</td>\n",
       "      <td>3.0</td>\n",
       "      <td>2.0</td>\n",
       "      <td>2.0</td>\n",
       "      <td>1.0</td>\n",
       "      <td>0.0</td>\n",
       "      <td>1.0</td>\n",
       "      <td>2.0</td>\n",
       "      <td>3.0</td>\n",
       "    </tr>\n",
       "    <tr>\n",
       "      <th>1</th>\n",
       "      <td>1</td>\n",
       "      <td>0.0</td>\n",
       "      <td>0.0</td>\n",
       "      <td>0.0</td>\n",
       "      <td>1.0</td>\n",
       "      <td>0.0</td>\n",
       "      <td>1.0</td>\n",
       "      <td>0.0</td>\n",
       "      <td>0.0</td>\n",
       "      <td>0.0</td>\n",
       "      <td>1.0</td>\n",
       "      <td>0.0</td>\n",
       "      <td>0.0</td>\n",
       "      <td>0.0</td>\n",
       "      <td>0.0</td>\n",
       "      <td>1.0</td>\n",
       "      <td>0.0</td>\n",
       "    </tr>\n",
       "    <tr>\n",
       "      <th>2</th>\n",
       "      <td>3</td>\n",
       "      <td>0.0</td>\n",
       "      <td>0.0</td>\n",
       "      <td>0.0</td>\n",
       "      <td>0.0</td>\n",
       "      <td>0.0</td>\n",
       "      <td>1.0</td>\n",
       "      <td>0.0</td>\n",
       "      <td>0.0</td>\n",
       "      <td>0.0</td>\n",
       "      <td>0.0</td>\n",
       "      <td>0.0</td>\n",
       "      <td>0.0</td>\n",
       "      <td>0.0</td>\n",
       "      <td>1.0</td>\n",
       "      <td>0.0</td>\n",
       "      <td>1.0</td>\n",
       "    </tr>\n",
       "    <tr>\n",
       "      <th>3</th>\n",
       "      <td>4</td>\n",
       "      <td>0.0</td>\n",
       "      <td>0.0</td>\n",
       "      <td>0.0</td>\n",
       "      <td>0.0</td>\n",
       "      <td>1.0</td>\n",
       "      <td>1.0</td>\n",
       "      <td>0.0</td>\n",
       "      <td>0.0</td>\n",
       "      <td>0.0</td>\n",
       "      <td>0.0</td>\n",
       "      <td>0.0</td>\n",
       "      <td>1.0</td>\n",
       "      <td>0.0</td>\n",
       "      <td>1.0</td>\n",
       "      <td>0.0</td>\n",
       "      <td>0.0</td>\n",
       "    </tr>\n",
       "    <tr>\n",
       "      <th>4</th>\n",
       "      <td>7</td>\n",
       "      <td>0.0</td>\n",
       "      <td>1.0</td>\n",
       "      <td>0.0</td>\n",
       "      <td>0.0</td>\n",
       "      <td>1.0</td>\n",
       "      <td>1.0</td>\n",
       "      <td>0.0</td>\n",
       "      <td>0.0</td>\n",
       "      <td>0.0</td>\n",
       "      <td>0.0</td>\n",
       "      <td>0.0</td>\n",
       "      <td>1.0</td>\n",
       "      <td>0.0</td>\n",
       "      <td>1.0</td>\n",
       "      <td>0.0</td>\n",
       "      <td>1.0</td>\n",
       "    </tr>\n",
       "    <tr>\n",
       "      <th>...</th>\n",
       "      <td>...</td>\n",
       "      <td>...</td>\n",
       "      <td>...</td>\n",
       "      <td>...</td>\n",
       "      <td>...</td>\n",
       "      <td>...</td>\n",
       "      <td>...</td>\n",
       "      <td>...</td>\n",
       "      <td>...</td>\n",
       "      <td>...</td>\n",
       "      <td>...</td>\n",
       "      <td>...</td>\n",
       "      <td>...</td>\n",
       "      <td>...</td>\n",
       "      <td>...</td>\n",
       "      <td>...</td>\n",
       "      <td>...</td>\n",
       "    </tr>\n",
       "    <tr>\n",
       "      <th>15034</th>\n",
       "      <td>83971</td>\n",
       "      <td>0.0</td>\n",
       "      <td>0.0</td>\n",
       "      <td>0.0</td>\n",
       "      <td>0.0</td>\n",
       "      <td>0.0</td>\n",
       "      <td>1.0</td>\n",
       "      <td>0.0</td>\n",
       "      <td>0.0</td>\n",
       "      <td>0.0</td>\n",
       "      <td>0.0</td>\n",
       "      <td>0.0</td>\n",
       "      <td>0.0</td>\n",
       "      <td>0.0</td>\n",
       "      <td>1.0</td>\n",
       "      <td>0.0</td>\n",
       "      <td>0.0</td>\n",
       "    </tr>\n",
       "    <tr>\n",
       "      <th>15035</th>\n",
       "      <td>84075</td>\n",
       "      <td>0.0</td>\n",
       "      <td>0.0</td>\n",
       "      <td>0.0</td>\n",
       "      <td>0.0</td>\n",
       "      <td>1.0</td>\n",
       "      <td>1.0</td>\n",
       "      <td>0.0</td>\n",
       "      <td>0.0</td>\n",
       "      <td>0.0</td>\n",
       "      <td>0.0</td>\n",
       "      <td>0.0</td>\n",
       "      <td>1.0</td>\n",
       "      <td>0.0</td>\n",
       "      <td>0.0</td>\n",
       "      <td>0.0</td>\n",
       "      <td>1.0</td>\n",
       "    </tr>\n",
       "    <tr>\n",
       "      <th>15036</th>\n",
       "      <td>84107</td>\n",
       "      <td>0.0</td>\n",
       "      <td>0.0</td>\n",
       "      <td>0.0</td>\n",
       "      <td>0.0</td>\n",
       "      <td>0.0</td>\n",
       "      <td>1.0</td>\n",
       "      <td>0.0</td>\n",
       "      <td>0.0</td>\n",
       "      <td>0.0</td>\n",
       "      <td>0.0</td>\n",
       "      <td>0.0</td>\n",
       "      <td>0.0</td>\n",
       "      <td>0.0</td>\n",
       "      <td>1.0</td>\n",
       "      <td>0.0</td>\n",
       "      <td>0.0</td>\n",
       "    </tr>\n",
       "    <tr>\n",
       "      <th>15037</th>\n",
       "      <td>84228</td>\n",
       "      <td>0.0</td>\n",
       "      <td>0.0</td>\n",
       "      <td>0.0</td>\n",
       "      <td>0.0</td>\n",
       "      <td>0.0</td>\n",
       "      <td>1.0</td>\n",
       "      <td>0.0</td>\n",
       "      <td>0.0</td>\n",
       "      <td>0.0</td>\n",
       "      <td>0.0</td>\n",
       "      <td>0.0</td>\n",
       "      <td>0.0</td>\n",
       "      <td>0.0</td>\n",
       "      <td>1.0</td>\n",
       "      <td>0.0</td>\n",
       "      <td>1.0</td>\n",
       "    </tr>\n",
       "    <tr>\n",
       "      <th>15038</th>\n",
       "      <td>84290</td>\n",
       "      <td>0.0</td>\n",
       "      <td>0.0</td>\n",
       "      <td>0.0</td>\n",
       "      <td>0.0</td>\n",
       "      <td>0.0</td>\n",
       "      <td>1.0</td>\n",
       "      <td>0.0</td>\n",
       "      <td>0.0</td>\n",
       "      <td>0.0</td>\n",
       "      <td>0.0</td>\n",
       "      <td>0.0</td>\n",
       "      <td>0.0</td>\n",
       "      <td>0.0</td>\n",
       "      <td>1.0</td>\n",
       "      <td>0.0</td>\n",
       "      <td>1.0</td>\n",
       "    </tr>\n",
       "  </tbody>\n",
       "</table>\n",
       "<p>15039 rows × 17 columns</p>\n",
       "</div>"
      ],
      "text/plain": [
       "genre  user_id_mapping  num_biography  num_children  num_comics  num_crime  \\\n",
       "0                    0            3.0           1.0         2.0        2.0   \n",
       "1                    1            0.0           0.0         0.0        1.0   \n",
       "2                    3            0.0           0.0         0.0        0.0   \n",
       "3                    4            0.0           0.0         0.0        0.0   \n",
       "4                    7            0.0           1.0         0.0        0.0   \n",
       "...                ...            ...           ...         ...        ...   \n",
       "15034            83971            0.0           0.0         0.0        0.0   \n",
       "15035            84075            0.0           0.0         0.0        0.0   \n",
       "15036            84107            0.0           0.0         0.0        0.0   \n",
       "15037            84228            0.0           0.0         0.0        0.0   \n",
       "15038            84290            0.0           0.0         0.0        0.0   \n",
       "\n",
       "genre  num_fantasy  num_fiction  num_graphic  num_historical fiction  \\\n",
       "0              1.0          3.0          2.0                     3.0   \n",
       "1              0.0          1.0          0.0                     0.0   \n",
       "2              0.0          1.0          0.0                     0.0   \n",
       "3              1.0          1.0          0.0                     0.0   \n",
       "4              1.0          1.0          0.0                     0.0   \n",
       "...            ...          ...          ...                     ...   \n",
       "15034          0.0          1.0          0.0                     0.0   \n",
       "15035          1.0          1.0          0.0                     0.0   \n",
       "15036          0.0          1.0          0.0                     0.0   \n",
       "15037          0.0          1.0          0.0                     0.0   \n",
       "15038          0.0          1.0          0.0                     0.0   \n",
       "\n",
       "genre  num_history  num_mystery  num_non-fiction  num_paranormal  num_poetry  \\\n",
       "0              3.0          2.0              2.0             1.0         0.0   \n",
       "1              0.0          1.0              0.0             0.0         0.0   \n",
       "2              0.0          0.0              0.0             0.0         0.0   \n",
       "3              0.0          0.0              0.0             1.0         0.0   \n",
       "4              0.0          0.0              0.0             1.0         0.0   \n",
       "...            ...          ...              ...             ...         ...   \n",
       "15034          0.0          0.0              0.0             0.0         0.0   \n",
       "15035          0.0          0.0              0.0             1.0         0.0   \n",
       "15036          0.0          0.0              0.0             0.0         0.0   \n",
       "15037          0.0          0.0              0.0             0.0         0.0   \n",
       "15038          0.0          0.0              0.0             0.0         0.0   \n",
       "\n",
       "genre  num_romance  num_thriller  num_young-adult  \n",
       "0              1.0           2.0              3.0  \n",
       "1              0.0           1.0              0.0  \n",
       "2              1.0           0.0              1.0  \n",
       "3              1.0           0.0              0.0  \n",
       "4              1.0           0.0              1.0  \n",
       "...            ...           ...              ...  \n",
       "15034          1.0           0.0              0.0  \n",
       "15035          0.0           0.0              1.0  \n",
       "15036          1.0           0.0              0.0  \n",
       "15037          1.0           0.0              1.0  \n",
       "15038          1.0           0.0              1.0  \n",
       "\n",
       "[15039 rows x 17 columns]"
      ]
     },
     "execution_count": 39,
     "metadata": {},
     "output_type": "execute_result"
    }
   ],
   "source": [
    "a = master.groupby(['user_id_mapping','genre']).agg(num_genre = ('genre','count')).reset_index()\n",
    "a = a.pivot(index = \"user_id_mapping\",columns='genre',values='num_genre').add_prefix('num_').reset_index()\n",
    "a = a.fillna(0)\n",
    "a"
   ]
  },
  {
   "cell_type": "code",
   "execution_count": 40,
   "metadata": {},
   "outputs": [
    {
     "data": {
      "text/html": [
       "<div>\n",
       "<style scoped>\n",
       "    .dataframe tbody tr th:only-of-type {\n",
       "        vertical-align: middle;\n",
       "    }\n",
       "\n",
       "    .dataframe tbody tr th {\n",
       "        vertical-align: top;\n",
       "    }\n",
       "\n",
       "    .dataframe thead th {\n",
       "        text-align: right;\n",
       "    }\n",
       "</style>\n",
       "<table border=\"1\" class=\"dataframe\">\n",
       "  <thead>\n",
       "    <tr style=\"text-align: right;\">\n",
       "      <th>genre</th>\n",
       "      <th>user_id_mapping</th>\n",
       "      <th>rating_biography</th>\n",
       "      <th>rating_children</th>\n",
       "      <th>rating_comics</th>\n",
       "      <th>rating_crime</th>\n",
       "      <th>rating_fantasy</th>\n",
       "      <th>rating_fiction</th>\n",
       "      <th>rating_graphic</th>\n",
       "      <th>rating_historical fiction</th>\n",
       "      <th>rating_history</th>\n",
       "      <th>rating_mystery</th>\n",
       "      <th>rating_non-fiction</th>\n",
       "      <th>rating_paranormal</th>\n",
       "      <th>rating_poetry</th>\n",
       "      <th>rating_romance</th>\n",
       "      <th>rating_thriller</th>\n",
       "      <th>rating_young-adult</th>\n",
       "    </tr>\n",
       "  </thead>\n",
       "  <tbody>\n",
       "    <tr>\n",
       "      <th>0</th>\n",
       "      <td>0</td>\n",
       "      <td>4.0</td>\n",
       "      <td>3.0</td>\n",
       "      <td>4.0</td>\n",
       "      <td>3.5</td>\n",
       "      <td>4.0</td>\n",
       "      <td>4.0</td>\n",
       "      <td>4.0</td>\n",
       "      <td>4.0</td>\n",
       "      <td>4.0</td>\n",
       "      <td>3.5</td>\n",
       "      <td>4.0</td>\n",
       "      <td>4.0</td>\n",
       "      <td>0.0</td>\n",
       "      <td>4.0</td>\n",
       "      <td>3.5</td>\n",
       "      <td>4.0</td>\n",
       "    </tr>\n",
       "    <tr>\n",
       "      <th>1</th>\n",
       "      <td>1</td>\n",
       "      <td>0.0</td>\n",
       "      <td>0.0</td>\n",
       "      <td>0.0</td>\n",
       "      <td>4.0</td>\n",
       "      <td>0.0</td>\n",
       "      <td>4.0</td>\n",
       "      <td>0.0</td>\n",
       "      <td>0.0</td>\n",
       "      <td>0.0</td>\n",
       "      <td>4.0</td>\n",
       "      <td>0.0</td>\n",
       "      <td>0.0</td>\n",
       "      <td>0.0</td>\n",
       "      <td>0.0</td>\n",
       "      <td>4.0</td>\n",
       "      <td>0.0</td>\n",
       "    </tr>\n",
       "    <tr>\n",
       "      <th>2</th>\n",
       "      <td>3</td>\n",
       "      <td>0.0</td>\n",
       "      <td>0.0</td>\n",
       "      <td>0.0</td>\n",
       "      <td>0.0</td>\n",
       "      <td>0.0</td>\n",
       "      <td>4.0</td>\n",
       "      <td>0.0</td>\n",
       "      <td>0.0</td>\n",
       "      <td>0.0</td>\n",
       "      <td>0.0</td>\n",
       "      <td>0.0</td>\n",
       "      <td>0.0</td>\n",
       "      <td>0.0</td>\n",
       "      <td>4.0</td>\n",
       "      <td>0.0</td>\n",
       "      <td>4.0</td>\n",
       "    </tr>\n",
       "    <tr>\n",
       "      <th>3</th>\n",
       "      <td>4</td>\n",
       "      <td>0.0</td>\n",
       "      <td>0.0</td>\n",
       "      <td>0.0</td>\n",
       "      <td>0.0</td>\n",
       "      <td>4.0</td>\n",
       "      <td>4.0</td>\n",
       "      <td>0.0</td>\n",
       "      <td>0.0</td>\n",
       "      <td>0.0</td>\n",
       "      <td>0.0</td>\n",
       "      <td>0.0</td>\n",
       "      <td>4.0</td>\n",
       "      <td>0.0</td>\n",
       "      <td>4.0</td>\n",
       "      <td>0.0</td>\n",
       "      <td>0.0</td>\n",
       "    </tr>\n",
       "    <tr>\n",
       "      <th>4</th>\n",
       "      <td>7</td>\n",
       "      <td>0.0</td>\n",
       "      <td>4.0</td>\n",
       "      <td>0.0</td>\n",
       "      <td>0.0</td>\n",
       "      <td>4.0</td>\n",
       "      <td>4.0</td>\n",
       "      <td>0.0</td>\n",
       "      <td>0.0</td>\n",
       "      <td>0.0</td>\n",
       "      <td>0.0</td>\n",
       "      <td>0.0</td>\n",
       "      <td>4.0</td>\n",
       "      <td>0.0</td>\n",
       "      <td>4.0</td>\n",
       "      <td>0.0</td>\n",
       "      <td>4.0</td>\n",
       "    </tr>\n",
       "  </tbody>\n",
       "</table>\n",
       "</div>"
      ],
      "text/plain": [
       "genre  user_id_mapping  rating_biography  rating_children  rating_comics  \\\n",
       "0                    0               4.0              3.0            4.0   \n",
       "1                    1               0.0              0.0            0.0   \n",
       "2                    3               0.0              0.0            0.0   \n",
       "3                    4               0.0              0.0            0.0   \n",
       "4                    7               0.0              4.0            0.0   \n",
       "\n",
       "genre  rating_crime  rating_fantasy  rating_fiction  rating_graphic  \\\n",
       "0               3.5             4.0             4.0             4.0   \n",
       "1               4.0             0.0             4.0             0.0   \n",
       "2               0.0             0.0             4.0             0.0   \n",
       "3               0.0             4.0             4.0             0.0   \n",
       "4               0.0             4.0             4.0             0.0   \n",
       "\n",
       "genre  rating_historical fiction  rating_history  rating_mystery  \\\n",
       "0                            4.0             4.0             3.5   \n",
       "1                            0.0             0.0             4.0   \n",
       "2                            0.0             0.0             0.0   \n",
       "3                            0.0             0.0             0.0   \n",
       "4                            0.0             0.0             0.0   \n",
       "\n",
       "genre  rating_non-fiction  rating_paranormal  rating_poetry  rating_romance  \\\n",
       "0                     4.0                4.0            0.0             4.0   \n",
       "1                     0.0                0.0            0.0             0.0   \n",
       "2                     0.0                0.0            0.0             4.0   \n",
       "3                     0.0                4.0            0.0             4.0   \n",
       "4                     0.0                4.0            0.0             4.0   \n",
       "\n",
       "genre  rating_thriller  rating_young-adult  \n",
       "0                  3.5                 4.0  \n",
       "1                  4.0                 0.0  \n",
       "2                  0.0                 4.0  \n",
       "3                  0.0                 0.0  \n",
       "4                  0.0                 4.0  "
      ]
     },
     "execution_count": 40,
     "metadata": {},
     "output_type": "execute_result"
    }
   ],
   "source": [
    "b = master.groupby(['user_id_mapping','genre']).agg(rank_genre = ('Actual Rating','mean')).reset_index()\n",
    "b = b.pivot(index = \"user_id_mapping\",columns='genre',values='rank_genre').add_prefix('rating_').reset_index()\n",
    "b =  b.fillna(0)\n",
    "b.head()"
   ]
  },
  {
   "cell_type": "code",
   "execution_count": 52,
   "metadata": {},
   "outputs": [
    {
     "data": {
      "text/plain": [
       "Index(['user_id_mapping', 'mean_num_pages', 'mean_num_rating',\n",
       "       'mean_rating_count', 'amount', 'num_biography', 'num_children',\n",
       "       'num_comics', 'num_crime', 'num_fantasy', 'num_fiction', 'num_graphic',\n",
       "       'num_historical fiction', 'num_history', 'num_mystery',\n",
       "       'num_non-fiction', 'num_paranormal', 'num_poetry', 'num_romance',\n",
       "       'num_thriller', 'num_young-adult', 'rating_biography',\n",
       "       'rating_children', 'rating_comics', 'rating_crime', 'rating_fantasy',\n",
       "       'rating_fiction', 'rating_graphic', 'rating_historical fiction',\n",
       "       'rating_history', 'rating_mystery', 'rating_non-fiction',\n",
       "       'rating_paranormal', 'rating_poetry', 'rating_romance',\n",
       "       'rating_thriller', 'rating_young-adult'],\n",
       "      dtype='object')"
      ]
     },
     "execution_count": 52,
     "metadata": {},
     "output_type": "execute_result"
    }
   ],
   "source": [
    "user_df = user_df.merge(a, on = 'user_id_mapping', how = 'left').merge(b, on = 'user_id_mapping', how = 'left')\n",
    "user_df.columns"
   ]
  },
  {
   "cell_type": "code",
   "execution_count": 53,
   "metadata": {},
   "outputs": [],
   "source": [
    "user_df.to_csv('../output/user_df.csv')"
   ]
  },
  {
   "cell_type": "code",
   "execution_count": null,
   "metadata": {},
   "outputs": [],
   "source": []
  }
 ],
 "metadata": {
  "kernelspec": {
   "display_name": "Python 3.9.13 64-bit (microsoft store)",
   "language": "python",
   "name": "python3"
  },
  "language_info": {
   "codemirror_mode": {
    "name": "ipython",
    "version": 3
   },
   "file_extension": ".py",
   "mimetype": "text/x-python",
   "name": "python",
   "nbconvert_exporter": "python",
   "pygments_lexer": "ipython3",
   "version": "3.9.13"
  },
  "orig_nbformat": 4,
  "vscode": {
   "interpreter": {
    "hash": "78368e222455f9b9f2e4af070e904cd8ae5406226cd664a2fb52fddba40b8ce4"
   }
  }
 },
 "nbformat": 4,
 "nbformat_minor": 2
}
